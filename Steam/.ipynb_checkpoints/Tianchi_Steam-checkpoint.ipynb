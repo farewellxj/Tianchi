{
 "cells": [
  {
   "cell_type": "markdown",
   "metadata": {},
   "source": [
    "### 导入要使用到的包"
   ]
  },
  {
   "cell_type": "code",
   "execution_count": 174,
   "metadata": {},
   "outputs": [],
   "source": [
    "%matplotlib inline\n",
    "import pandas as pd\n",
    "import numpy as np\n",
    "import lightgbm as lgb\n",
    "import warnings\n",
    "import matplotlib.pylab as plt\n",
    "from sklearn.ensemble import RandomForestRegressor \n",
    "from sklearn.ensemble import AdaBoostRegressor\n",
    "from sklearn.tree import DecisionTreeRegressor\n",
    "from sklearn.ensemble import GradientBoostingRegressor\n",
    "from sklearn.grid_search import GridSearchCV\n",
    "from sklearn import cross_validation, metrics\n",
    "from sklearn.model_selection import train_test_split\n",
    "from sklearn.cluster import KMeans\n",
    "from sklearn.linear_model import LassoCV\n",
    "from sklearn.metrics import mean_squared_error\n",
    "warnings.filterwarnings(\"ignore\")"
   ]
  },
  {
   "cell_type": "markdown",
   "metadata": {},
   "source": [
    "### 准备训练集数据"
   ]
  },
  {
   "cell_type": "code",
   "execution_count": 175,
   "metadata": {},
   "outputs": [],
   "source": [
    "df_train = pd.read_csv('./zhengqi_train.txt',sep='\\t')\n",
    "df_test = pd.read_csv('./zhengqi_test.txt',sep='\\t')"
   ]
  },
  {
   "cell_type": "code",
   "execution_count": 176,
   "metadata": {},
   "outputs": [],
   "source": [
    "Y_data = df_train['target']\n",
    "X_data = df_train.drop('target',axis=1)\n",
    "x_train,x_test,y_train,y_test = train_test_split(X_data,Y_data,train_size = 0.7)"
   ]
  },
  {
   "cell_type": "markdown",
   "metadata": {},
   "source": [
    "### 先用LassoCV做个特征选择"
   ]
  },
  {
   "cell_type": "code",
   "execution_count": 177,
   "metadata": {
    "scrolled": true
   },
   "outputs": [
    {
     "data": {
      "text/plain": [
       "0.15294463355667676"
      ]
     },
     "execution_count": 177,
     "metadata": {},
     "output_type": "execute_result"
    }
   ],
   "source": [
    "ls = LassoCV(cv=5,eps=0.02)\n",
    "ls.fit(x_train,y_train)\n",
    "mean_squared_error(y_test,ls.predict(x_test))"
   ]
  },
  {
   "cell_type": "code",
   "execution_count": 178,
   "metadata": {},
   "outputs": [],
   "source": [
    "def Feature_delete(coef_,feature_name):\n",
    "    select = []\n",
    "    for i,feature_name in zip(coef_,feature_name):\n",
    "        if i == 0:\n",
    "            select.append(feature_name)\n",
    "        else:\n",
    "            pass\n",
    "    return select"
   ]
  },
  {
   "cell_type": "markdown",
   "metadata": {},
   "source": [
    "### 丢弃的特征 "
   ]
  },
  {
   "cell_type": "code",
   "execution_count": 179,
   "metadata": {
    "scrolled": true
   },
   "outputs": [
    {
     "data": {
      "text/plain": [
       "['V5',\n",
       " 'V6',\n",
       " 'V7',\n",
       " 'V8',\n",
       " 'V11',\n",
       " 'V13',\n",
       " 'V15',\n",
       " 'V19',\n",
       " 'V20',\n",
       " 'V21',\n",
       " 'V22',\n",
       " 'V25',\n",
       " 'V26',\n",
       " 'V27',\n",
       " 'V28',\n",
       " 'V29',\n",
       " 'V30',\n",
       " 'V31',\n",
       " 'V32',\n",
       " 'V34',\n",
       " 'V35',\n",
       " 'V36']"
      ]
     },
     "execution_count": 179,
     "metadata": {},
     "output_type": "execute_result"
    }
   ],
   "source": [
    "Fd = Feature_delete(ls.coef_,x_train.columns)\n",
    "Fd"
   ]
  },
  {
   "cell_type": "code",
   "execution_count": 180,
   "metadata": {
    "scrolled": true
   },
   "outputs": [
    {
     "data": {
      "text/html": [
       "<div>\n",
       "<style scoped>\n",
       "    .dataframe tbody tr th:only-of-type {\n",
       "        vertical-align: middle;\n",
       "    }\n",
       "\n",
       "    .dataframe tbody tr th {\n",
       "        vertical-align: top;\n",
       "    }\n",
       "\n",
       "    .dataframe thead th {\n",
       "        text-align: right;\n",
       "    }\n",
       "</style>\n",
       "<table border=\"1\" class=\"dataframe\">\n",
       "  <thead>\n",
       "    <tr style=\"text-align: right;\">\n",
       "      <th></th>\n",
       "      <th>V0</th>\n",
       "      <th>V1</th>\n",
       "      <th>V2</th>\n",
       "      <th>V3</th>\n",
       "      <th>V4</th>\n",
       "      <th>V9</th>\n",
       "      <th>V10</th>\n",
       "      <th>V12</th>\n",
       "      <th>V14</th>\n",
       "      <th>V16</th>\n",
       "      <th>V17</th>\n",
       "      <th>V18</th>\n",
       "      <th>V23</th>\n",
       "      <th>V24</th>\n",
       "      <th>V33</th>\n",
       "      <th>V37</th>\n",
       "    </tr>\n",
       "  </thead>\n",
       "  <tbody>\n",
       "    <tr>\n",
       "      <th>0</th>\n",
       "      <td>0.566</td>\n",
       "      <td>0.016</td>\n",
       "      <td>-0.143</td>\n",
       "      <td>0.407</td>\n",
       "      <td>0.452</td>\n",
       "      <td>-2.114</td>\n",
       "      <td>-0.940</td>\n",
       "      <td>-0.073</td>\n",
       "      <td>-0.484</td>\n",
       "      <td>-1.707</td>\n",
       "      <td>-1.162</td>\n",
       "      <td>-0.573</td>\n",
       "      <td>0.356</td>\n",
       "      <td>0.800</td>\n",
       "      <td>-4.627</td>\n",
       "      <td>-3.508</td>\n",
       "    </tr>\n",
       "    <tr>\n",
       "      <th>1</th>\n",
       "      <td>0.968</td>\n",
       "      <td>0.437</td>\n",
       "      <td>0.066</td>\n",
       "      <td>0.566</td>\n",
       "      <td>0.194</td>\n",
       "      <td>-2.114</td>\n",
       "      <td>0.188</td>\n",
       "      <td>-0.134</td>\n",
       "      <td>-0.488</td>\n",
       "      <td>-0.977</td>\n",
       "      <td>-1.162</td>\n",
       "      <td>-0.571</td>\n",
       "      <td>0.357</td>\n",
       "      <td>0.801</td>\n",
       "      <td>-0.843</td>\n",
       "      <td>-0.730</td>\n",
       "    </tr>\n",
       "    <tr>\n",
       "      <th>2</th>\n",
       "      <td>1.013</td>\n",
       "      <td>0.568</td>\n",
       "      <td>0.235</td>\n",
       "      <td>0.370</td>\n",
       "      <td>0.112</td>\n",
       "      <td>-2.114</td>\n",
       "      <td>0.874</td>\n",
       "      <td>-0.072</td>\n",
       "      <td>-0.493</td>\n",
       "      <td>-0.618</td>\n",
       "      <td>-0.897</td>\n",
       "      <td>-0.564</td>\n",
       "      <td>0.355</td>\n",
       "      <td>0.961</td>\n",
       "      <td>-0.843</td>\n",
       "      <td>-0.589</td>\n",
       "    </tr>\n",
       "    <tr>\n",
       "      <th>3</th>\n",
       "      <td>0.733</td>\n",
       "      <td>0.368</td>\n",
       "      <td>0.283</td>\n",
       "      <td>0.165</td>\n",
       "      <td>0.599</td>\n",
       "      <td>-2.114</td>\n",
       "      <td>0.011</td>\n",
       "      <td>-0.014</td>\n",
       "      <td>-0.371</td>\n",
       "      <td>-0.429</td>\n",
       "      <td>-0.897</td>\n",
       "      <td>-0.574</td>\n",
       "      <td>0.352</td>\n",
       "      <td>1.435</td>\n",
       "      <td>-0.843</td>\n",
       "      <td>-0.112</td>\n",
       "    </tr>\n",
       "    <tr>\n",
       "      <th>4</th>\n",
       "      <td>0.684</td>\n",
       "      <td>0.638</td>\n",
       "      <td>0.260</td>\n",
       "      <td>0.209</td>\n",
       "      <td>0.337</td>\n",
       "      <td>-2.114</td>\n",
       "      <td>-0.251</td>\n",
       "      <td>0.199</td>\n",
       "      <td>-0.342</td>\n",
       "      <td>-0.391</td>\n",
       "      <td>-0.897</td>\n",
       "      <td>-0.572</td>\n",
       "      <td>0.352</td>\n",
       "      <td>0.881</td>\n",
       "      <td>-0.843</td>\n",
       "      <td>-0.028</td>\n",
       "    </tr>\n",
       "  </tbody>\n",
       "</table>\n",
       "</div>"
      ],
      "text/plain": [
       "      V0     V1     V2     V3     V4     V9    V10    V12    V14    V16  \\\n",
       "0  0.566  0.016 -0.143  0.407  0.452 -2.114 -0.940 -0.073 -0.484 -1.707   \n",
       "1  0.968  0.437  0.066  0.566  0.194 -2.114  0.188 -0.134 -0.488 -0.977   \n",
       "2  1.013  0.568  0.235  0.370  0.112 -2.114  0.874 -0.072 -0.493 -0.618   \n",
       "3  0.733  0.368  0.283  0.165  0.599 -2.114  0.011 -0.014 -0.371 -0.429   \n",
       "4  0.684  0.638  0.260  0.209  0.337 -2.114 -0.251  0.199 -0.342 -0.391   \n",
       "\n",
       "     V17    V18    V23    V24    V33    V37  \n",
       "0 -1.162 -0.573  0.356  0.800 -4.627 -3.508  \n",
       "1 -1.162 -0.571  0.357  0.801 -0.843 -0.730  \n",
       "2 -0.897 -0.564  0.355  0.961 -0.843 -0.589  \n",
       "3 -0.897 -0.574  0.352  1.435 -0.843 -0.112  \n",
       "4 -0.897 -0.572  0.352  0.881 -0.843 -0.028  "
      ]
     },
     "execution_count": 180,
     "metadata": {},
     "output_type": "execute_result"
    }
   ],
   "source": [
    "new_df = X_data.drop(Fd,axis=1)\n",
    "new_df.head()"
   ]
  },
  {
   "cell_type": "markdown",
   "metadata": {},
   "source": [
    "### 特征选择后模型的MSE有点提高"
   ]
  },
  {
   "cell_type": "code",
   "execution_count": 181,
   "metadata": {},
   "outputs": [
    {
     "data": {
      "text/plain": [
       "0.1414268185043369"
      ]
     },
     "execution_count": 181,
     "metadata": {},
     "output_type": "execute_result"
    }
   ],
   "source": [
    "x1_train,x1_test,y1_train,y1_test = train_test_split(new_df,Y_data,train_size = 0.7)\n",
    "ls = LassoCV(cv=5,eps=0.02)\n",
    "ls.fit(x1_train,y1_train)\n",
    "mean_squared_error(y1_test,ls.predict(x1_test))"
   ]
  },
  {
   "cell_type": "markdown",
   "metadata": {},
   "source": [
    "### Kmeans聚类分析，簇多一点方便检测离群点"
   ]
  },
  {
   "cell_type": "code",
   "execution_count": 182,
   "metadata": {},
   "outputs": [
    {
     "data": {
      "text/plain": [
       "5    607\n",
       "1    588\n",
       "8    448\n",
       "7    383\n",
       "2    364\n",
       "6    176\n",
       "3    165\n",
       "4    111\n",
       "0     46\n",
       "Name: label, dtype: int64"
      ]
     },
     "execution_count": 182,
     "metadata": {},
     "output_type": "execute_result"
    }
   ],
   "source": [
    "kmodel = KMeans(n_clusters = 9, n_jobs = 2) #K=9聚类\n",
    "kmodel.fit(new_df) \n",
    "new_df['label'] = kmodel.labels_  \n",
    "new_df['label'].value_counts()"
   ]
  },
  {
   "cell_type": "markdown",
   "metadata": {},
   "source": [
    "### 丢弃数量少的簇（离群数据）"
   ]
  },
  {
   "cell_type": "code",
   "execution_count": 183,
   "metadata": {},
   "outputs": [],
   "source": [
    "new_df_x = new_df[new_df['label'] != 6].drop('label',axis=1)\n",
    "new_df_y = Y_data.reindex(index = new_df_x.index)"
   ]
  },
  {
   "cell_type": "markdown",
   "metadata": {},
   "source": [
    "### 从LassoCV的MSE来说，测试集数据又更纯洁了一点 "
   ]
  },
  {
   "cell_type": "code",
   "execution_count": 184,
   "metadata": {},
   "outputs": [
    {
     "data": {
      "text/plain": [
       "0.11970581691337842"
      ]
     },
     "execution_count": 184,
     "metadata": {},
     "output_type": "execute_result"
    }
   ],
   "source": [
    "x2_train,x2_test,y2_train,y2_test = train_test_split(new_df_x,new_df_y,train_size = 0.7)\n",
    "ls = LassoCV(cv=5,eps=0.02)\n",
    "ls.fit(x2_train,y2_train)\n",
    "mean_squared_error(y2_test,ls.predict(x2_test))"
   ]
  },
  {
   "cell_type": "markdown",
   "metadata": {},
   "source": [
    "### RandomForest模型"
   ]
  },
  {
   "cell_type": "code",
   "execution_count": 185,
   "metadata": {
    "scrolled": true
   },
   "outputs": [
    {
     "data": {
      "text/plain": [
       "0.13336702734643735"
      ]
     },
     "execution_count": 185,
     "metadata": {},
     "output_type": "execute_result"
    }
   ],
   "source": [
    "rf0 = RandomForestRegressor(oob_score=True, random_state=10) #obb_score=True 即是否采用袋外样本来评估模型的好坏,默认FALSE\n",
    "rf0.fit(x2_train,y2_train)\n",
    "mean_squared_error(y2_test,rf0.predict(x2_test))"
   ]
  },
  {
   "cell_type": "code",
   "execution_count": 186,
   "metadata": {
    "scrolled": true
   },
   "outputs": [
    {
     "data": {
      "text/plain": [
       "([mean: -0.16442, std: 0.01481, params: {'n_estimators': 10},\n",
       "  mean: -0.15885, std: 0.01514, params: {'n_estimators': 20},\n",
       "  mean: -0.15825, std: 0.01362, params: {'n_estimators': 30},\n",
       "  mean: -0.15675, std: 0.01326, params: {'n_estimators': 40},\n",
       "  mean: -0.15778, std: 0.01302, params: {'n_estimators': 50},\n",
       "  mean: -0.15702, std: 0.01296, params: {'n_estimators': 60},\n",
       "  mean: -0.15686, std: 0.01384, params: {'n_estimators': 70}],\n",
       " {'n_estimators': 40},\n",
       " -0.1567541428828399)"
      ]
     },
     "execution_count": 186,
     "metadata": {},
     "output_type": "execute_result"
    }
   ],
   "source": [
    "param_test1 = {'n_estimators':[10,20,30,40,50,60,70]}\n",
    "gsearch1 = GridSearchCV(estimator = RandomForestRegressor(min_samples_split=100,\n",
    "                                  min_samples_leaf=20,max_depth=8,max_features='sqrt' ,random_state=10), \n",
    "                       param_grid = param_test1, scoring='neg_mean_squared_error',cv=5)\n",
    "gsearch1.fit(x2_train,y2_train)\n",
    "gsearch1.grid_scores_, gsearch1.best_params_, gsearch1.best_score_"
   ]
  },
  {
   "cell_type": "code",
   "execution_count": 187,
   "metadata": {},
   "outputs": [
    {
     "data": {
      "text/plain": [
       "([mean: -0.13772, std: 0.00642, params: {'max_depth': 13, 'min_samples_split': 20},\n",
       "  mean: -0.13772, std: 0.00642, params: {'max_depth': 13, 'min_samples_split': 40},\n",
       "  mean: -0.14535, std: 0.00892, params: {'max_depth': 13, 'min_samples_split': 60},\n",
       "  mean: -0.15123, std: 0.01081, params: {'max_depth': 13, 'min_samples_split': 80},\n",
       "  mean: -0.13772, std: 0.00642, params: {'max_depth': 15, 'min_samples_split': 20},\n",
       "  mean: -0.13772, std: 0.00642, params: {'max_depth': 15, 'min_samples_split': 40},\n",
       "  mean: -0.14535, std: 0.00892, params: {'max_depth': 15, 'min_samples_split': 60},\n",
       "  mean: -0.15123, std: 0.01081, params: {'max_depth': 15, 'min_samples_split': 80},\n",
       "  mean: -0.13772, std: 0.00642, params: {'max_depth': 17, 'min_samples_split': 20},\n",
       "  mean: -0.13772, std: 0.00642, params: {'max_depth': 17, 'min_samples_split': 40},\n",
       "  mean: -0.14535, std: 0.00892, params: {'max_depth': 17, 'min_samples_split': 60},\n",
       "  mean: -0.15123, std: 0.01081, params: {'max_depth': 17, 'min_samples_split': 80},\n",
       "  mean: -0.13772, std: 0.00642, params: {'max_depth': 20, 'min_samples_split': 20},\n",
       "  mean: -0.13772, std: 0.00642, params: {'max_depth': 20, 'min_samples_split': 40},\n",
       "  mean: -0.14535, std: 0.00892, params: {'max_depth': 20, 'min_samples_split': 60},\n",
       "  mean: -0.15123, std: 0.01081, params: {'max_depth': 20, 'min_samples_split': 80}],\n",
       " {'max_depth': 13, 'min_samples_split': 20},\n",
       " -0.1377170073279892)"
      ]
     },
     "execution_count": 187,
     "metadata": {},
     "output_type": "execute_result"
    }
   ],
   "source": [
    "param_test2 = {'max_depth':[13,15,17,20], 'min_samples_split':[20,40,60,80]}\n",
    "gsearch2 = GridSearchCV(estimator = RandomForestRegressor(n_estimators= 50, \n",
    "                                  min_samples_leaf=20,max_features='sqrt' ,oob_score=True, random_state=10),\n",
    "                        param_grid = param_test2,scoring='neg_mean_squared_error',cv=5)\n",
    "gsearch2.fit(x2_train,y2_train)\n",
    "gsearch2.grid_scores_, gsearch2.best_params_, gsearch2.best_score_"
   ]
  },
  {
   "cell_type": "code",
   "execution_count": 188,
   "metadata": {},
   "outputs": [
    {
     "data": {
      "text/plain": [
       "0.13968801370856193"
      ]
     },
     "execution_count": 188,
     "metadata": {},
     "output_type": "execute_result"
    }
   ],
   "source": [
    "rf1 = RandomForestRegressor(n_estimators= 50, max_depth=13, min_samples_split=20,\n",
    "                                  min_samples_leaf=20,max_features='sqrt' ,oob_score=True, random_state=10)\n",
    "rf1.fit(x2_train,y2_train)\n",
    "mean_squared_error(y2_test,rf1.predict(x2_test))"
   ]
  },
  {
   "cell_type": "code",
   "execution_count": 189,
   "metadata": {
    "scrolled": true
   },
   "outputs": [
    {
     "data": {
      "text/plain": [
       "([mean: -0.12648, std: 0.00422, params: {'min_samples_leaf': 10},\n",
       "  mean: -0.13772, std: 0.00642, params: {'min_samples_leaf': 20},\n",
       "  mean: -0.14996, std: 0.01039, params: {'min_samples_leaf': 30},\n",
       "  mean: -0.15996, std: 0.01219, params: {'min_samples_leaf': 40},\n",
       "  mean: -0.17228, std: 0.01756, params: {'min_samples_leaf': 50}],\n",
       " {'min_samples_leaf': 10},\n",
       " -0.1264750006473136)"
      ]
     },
     "execution_count": 189,
     "metadata": {},
     "output_type": "execute_result"
    }
   ],
   "source": [
    "param_test3 = {'min_samples_leaf':[10,20,30,40,50]}\n",
    "gsearch3 = GridSearchCV(estimator = RandomForestRegressor(n_estimators= 50, max_depth=13,min_samples_split=20,\n",
    "                                  max_features='sqrt' ,oob_score=True, random_state=10),\n",
    "   param_grid = param_test3, scoring='neg_mean_squared_error',iid=False, cv=5)\n",
    "gsearch3.fit(x2_train,y2_train)\n",
    "gsearch3.grid_scores_, gsearch3.best_params_, gsearch3.best_score_"
   ]
  },
  {
   "cell_type": "code",
   "execution_count": 190,
   "metadata": {},
   "outputs": [
    {
     "data": {
      "text/plain": [
       "0.12487736145997344"
      ]
     },
     "execution_count": 190,
     "metadata": {},
     "output_type": "execute_result"
    }
   ],
   "source": [
    "rf2 = RandomForestRegressor(n_estimators= 50, max_depth=13, min_samples_split=20,\n",
    "                                  min_samples_leaf=10,max_features='sqrt' ,oob_score=True, random_state=10)\n",
    "rf2.fit(x2_train,y2_train)\n",
    "mean_squared_error(y2_test,rf2.predict(x2_test))"
   ]
  },
  {
   "cell_type": "code",
   "execution_count": 191,
   "metadata": {
    "scrolled": true
   },
   "outputs": [
    {
     "data": {
      "text/plain": [
       "([mean: -0.12648, std: 0.00422, params: {'max_features': 4},\n",
       "  mean: -0.12473, std: 0.00700, params: {'max_features': 5},\n",
       "  mean: -0.12454, std: 0.00667, params: {'max_features': 6},\n",
       "  mean: -0.12331, std: 0.00771, params: {'max_features': 7},\n",
       "  mean: -0.12348, std: 0.00772, params: {'max_features': 8},\n",
       "  mean: -0.12319, std: 0.00742, params: {'max_features': 9}],\n",
       " {'max_features': 9},\n",
       " -0.1231863407116627)"
      ]
     },
     "execution_count": 191,
     "metadata": {},
     "output_type": "execute_result"
    }
   ],
   "source": [
    "param_test4 = {'max_features':[4,5,6,7,8,9]}\n",
    "gsearch4 = GridSearchCV(estimator = RandomForestRegressor(n_estimators= 50, max_depth=13, min_samples_split=20,\n",
    "                                  min_samples_leaf=10 ,oob_score=True, random_state=10),\n",
    "   param_grid = param_test4, scoring='neg_mean_squared_error',iid=False, cv=5)\n",
    "gsearch4.fit(x2_train,y2_train)\n",
    "gsearch4.grid_scores_, gsearch4.best_params_, gsearch4.best_score_"
   ]
  },
  {
   "cell_type": "markdown",
   "metadata": {},
   "source": [
    "### RandomForest模型 "
   ]
  },
  {
   "cell_type": "code",
   "execution_count": 192,
   "metadata": {},
   "outputs": [
    {
     "data": {
      "text/plain": [
       "0.11918630342742613"
      ]
     },
     "execution_count": 192,
     "metadata": {},
     "output_type": "execute_result"
    }
   ],
   "source": [
    "rf3 = RandomForestRegressor(n_estimators= 50, max_depth=13, min_samples_split=20,\n",
    "                                  min_samples_leaf=10,max_features=7 ,oob_score=True, random_state=10)\n",
    "rf3.fit(x2_train,y2_train)\n",
    "mean_squared_error(y2_test,rf3.predict(x2_test))"
   ]
  },
  {
   "cell_type": "markdown",
   "metadata": {},
   "source": [
    "### AdaBoost模型\n",
    "**AdaBoost调参一样用GridSerchCV调参**"
   ]
  },
  {
   "cell_type": "code",
   "execution_count": 193,
   "metadata": {},
   "outputs": [
    {
     "data": {
      "text/plain": [
       "0.11934075611635364"
      ]
     },
     "execution_count": 193,
     "metadata": {},
     "output_type": "execute_result"
    }
   ],
   "source": [
    "bdt = AdaBoostRegressor(DecisionTreeRegressor(max_depth=25, min_samples_split=50, min_samples_leaf=20,criterion='mse'),loss='square',\n",
    "                         n_estimators=100, learning_rate=0.6)\n",
    "bdt.fit(x2_train, y2_train)\n",
    "mean_squared_error(y2_test,bdt.predict(x2_test))"
   ]
  },
  {
   "cell_type": "markdown",
   "metadata": {},
   "source": [
    "### GBDT模型\n",
    "**GBDT模型调参也是一样的**"
   ]
  },
  {
   "cell_type": "code",
   "execution_count": 194,
   "metadata": {},
   "outputs": [
    {
     "data": {
      "text/plain": [
       "0.12659350218532509"
      ]
     },
     "execution_count": 194,
     "metadata": {},
     "output_type": "execute_result"
    }
   ],
   "source": [
    "gbm = GradientBoostingRegressor(learning_rate=0.2, n_estimators=80,max_depth=13, min_samples_leaf =60, \n",
    "                                min_samples_split =800, max_features='sqrt', subsample=0.9, random_state=10)\n",
    "\n",
    "gbm.fit(x2_train,y2_train)\n",
    "mean_squared_error(y2_test,gbm.predict(x2_test))"
   ]
  },
  {
   "cell_type": "markdown",
   "metadata": {},
   "source": [
    "### LightGBM模型\n",
    "**LGB模型调参也是一样的**"
   ]
  },
  {
   "cell_type": "code",
   "execution_count": 195,
   "metadata": {},
   "outputs": [
    {
     "data": {
      "text/plain": [
       "0.11884706711968288"
      ]
     },
     "execution_count": 195,
     "metadata": {},
     "output_type": "execute_result"
    }
   ],
   "source": [
    "lgb_model = lgb.LGBMModel(boosting_type='gbdt', num_leaves=35, max_depth=20, max_bin=255, learning_rate=0.03,n_estimator=10,\n",
    "                                                   subsample_for_bin=200000, objective='regression', min_split_gain=0.0, \n",
    "                                                   min_child_weight=0.001, min_child_samples=20, subsample=1.0, verbose= 0,\n",
    "                                                   subsample_freq=1, colsample_bytree=1.0, reg_alpha=0.0, reg_lambda=0.0,\n",
    "                                                   random_state=None, n_jobs=-1, silent=True)\n",
    "\n",
    "lgb_model.fit(x2_train,y2_train)\n",
    "mean_squared_error(y2_test,lgb_model.predict(x2_test))"
   ]
  },
  {
   "cell_type": "markdown",
   "metadata": {},
   "source": [
    "### 准备预测数据"
   ]
  },
  {
   "cell_type": "code",
   "execution_count": 196,
   "metadata": {},
   "outputs": [
    {
     "data": {
      "text/html": [
       "<div>\n",
       "<style scoped>\n",
       "    .dataframe tbody tr th:only-of-type {\n",
       "        vertical-align: middle;\n",
       "    }\n",
       "\n",
       "    .dataframe tbody tr th {\n",
       "        vertical-align: top;\n",
       "    }\n",
       "\n",
       "    .dataframe thead th {\n",
       "        text-align: right;\n",
       "    }\n",
       "</style>\n",
       "<table border=\"1\" class=\"dataframe\">\n",
       "  <thead>\n",
       "    <tr style=\"text-align: right;\">\n",
       "      <th></th>\n",
       "      <th>V0</th>\n",
       "      <th>V1</th>\n",
       "      <th>V2</th>\n",
       "      <th>V3</th>\n",
       "      <th>V4</th>\n",
       "      <th>V9</th>\n",
       "      <th>V10</th>\n",
       "      <th>V12</th>\n",
       "      <th>V14</th>\n",
       "      <th>V16</th>\n",
       "      <th>V17</th>\n",
       "      <th>V18</th>\n",
       "      <th>V23</th>\n",
       "      <th>V24</th>\n",
       "      <th>V33</th>\n",
       "      <th>V37</th>\n",
       "    </tr>\n",
       "  </thead>\n",
       "  <tbody>\n",
       "    <tr>\n",
       "      <th>0</th>\n",
       "      <td>0.368</td>\n",
       "      <td>0.380</td>\n",
       "      <td>-0.225</td>\n",
       "      <td>-0.049</td>\n",
       "      <td>0.379</td>\n",
       "      <td>0.904</td>\n",
       "      <td>-0.419</td>\n",
       "      <td>0.346</td>\n",
       "      <td>-0.204</td>\n",
       "      <td>-0.089</td>\n",
       "      <td>0.961</td>\n",
       "      <td>0.247</td>\n",
       "      <td>0.098</td>\n",
       "      <td>-1.314</td>\n",
       "      <td>0.534</td>\n",
       "      <td>0.388</td>\n",
       "    </tr>\n",
       "    <tr>\n",
       "      <th>1</th>\n",
       "      <td>0.148</td>\n",
       "      <td>0.489</td>\n",
       "      <td>-0.247</td>\n",
       "      <td>-0.049</td>\n",
       "      <td>0.122</td>\n",
       "      <td>0.904</td>\n",
       "      <td>-0.403</td>\n",
       "      <td>0.465</td>\n",
       "      <td>0.148</td>\n",
       "      <td>-0.093</td>\n",
       "      <td>0.961</td>\n",
       "      <td>0.073</td>\n",
       "      <td>0.090</td>\n",
       "      <td>-1.310</td>\n",
       "      <td>0.046</td>\n",
       "      <td>0.104</td>\n",
       "    </tr>\n",
       "    <tr>\n",
       "      <th>2</th>\n",
       "      <td>-0.166</td>\n",
       "      <td>-0.062</td>\n",
       "      <td>-0.311</td>\n",
       "      <td>0.046</td>\n",
       "      <td>-0.055</td>\n",
       "      <td>0.904</td>\n",
       "      <td>0.330</td>\n",
       "      <td>0.173</td>\n",
       "      <td>0.068</td>\n",
       "      <td>-0.061</td>\n",
       "      <td>0.961</td>\n",
       "      <td>0.070</td>\n",
       "      <td>0.091</td>\n",
       "      <td>-1.310</td>\n",
       "      <td>0.017</td>\n",
       "      <td>0.569</td>\n",
       "    </tr>\n",
       "    <tr>\n",
       "      <th>3</th>\n",
       "      <td>0.102</td>\n",
       "      <td>0.294</td>\n",
       "      <td>-0.259</td>\n",
       "      <td>0.051</td>\n",
       "      <td>-0.183</td>\n",
       "      <td>0.904</td>\n",
       "      <td>-0.431</td>\n",
       "      <td>-0.038</td>\n",
       "      <td>-0.313</td>\n",
       "      <td>-0.134</td>\n",
       "      <td>0.961</td>\n",
       "      <td>0.078</td>\n",
       "      <td>0.086</td>\n",
       "      <td>0.234</td>\n",
       "      <td>-0.040</td>\n",
       "      <td>0.391</td>\n",
       "    </tr>\n",
       "    <tr>\n",
       "      <th>4</th>\n",
       "      <td>0.300</td>\n",
       "      <td>0.428</td>\n",
       "      <td>0.208</td>\n",
       "      <td>0.051</td>\n",
       "      <td>-0.033</td>\n",
       "      <td>0.904</td>\n",
       "      <td>-0.162</td>\n",
       "      <td>-0.063</td>\n",
       "      <td>-0.319</td>\n",
       "      <td>-0.075</td>\n",
       "      <td>0.961</td>\n",
       "      <td>0.080</td>\n",
       "      <td>0.089</td>\n",
       "      <td>0.237</td>\n",
       "      <td>-0.040</td>\n",
       "      <td>-0.497</td>\n",
       "    </tr>\n",
       "  </tbody>\n",
       "</table>\n",
       "</div>"
      ],
      "text/plain": [
       "      V0     V1     V2     V3     V4     V9    V10    V12    V14    V16  \\\n",
       "0  0.368  0.380 -0.225 -0.049  0.379  0.904 -0.419  0.346 -0.204 -0.089   \n",
       "1  0.148  0.489 -0.247 -0.049  0.122  0.904 -0.403  0.465  0.148 -0.093   \n",
       "2 -0.166 -0.062 -0.311  0.046 -0.055  0.904  0.330  0.173  0.068 -0.061   \n",
       "3  0.102  0.294 -0.259  0.051 -0.183  0.904 -0.431 -0.038 -0.313 -0.134   \n",
       "4  0.300  0.428  0.208  0.051 -0.033  0.904 -0.162 -0.063 -0.319 -0.075   \n",
       "\n",
       "     V17    V18    V23    V24    V33    V37  \n",
       "0  0.961  0.247  0.098 -1.314  0.534  0.388  \n",
       "1  0.961  0.073  0.090 -1.310  0.046  0.104  \n",
       "2  0.961  0.070  0.091 -1.310  0.017  0.569  \n",
       "3  0.961  0.078  0.086  0.234 -0.040  0.391  \n",
       "4  0.961  0.080  0.089  0.237 -0.040 -0.497  "
      ]
     },
     "execution_count": 196,
     "metadata": {},
     "output_type": "execute_result"
    }
   ],
   "source": [
    "x2_train.columns\n",
    "df_test_fit = df_test[x2_train.columns]\n",
    "df_test_fit.head()"
   ]
  },
  {
   "cell_type": "code",
   "execution_count": 197,
   "metadata": {},
   "outputs": [],
   "source": [
    "result = pd.DataFrame()\n",
    "result['rf'] = rf3.predict(df_test_fit)\n",
    "result['adaboost'] = bdt.predict(df_test_fit)\n",
    "result['gbdt'] = gbm.predict(df_test_fit)\n",
    "result['lightgbm'] = lgb_model.predict(df_test_fit)"
   ]
  },
  {
   "cell_type": "markdown",
   "metadata": {},
   "source": [
    "### 画图看看预测结果相互之间差距大不大 "
   ]
  },
  {
   "cell_type": "code",
   "execution_count": 198,
   "metadata": {
    "scrolled": false
   },
   "outputs": [
    {
     "data": {
      "text/plain": [
       "[<matplotlib.lines.Line2D at 0x14877de0278>,\n",
       " <matplotlib.lines.Line2D at 0x14877dbfeb8>,\n",
       " <matplotlib.lines.Line2D at 0x14877dbf6a0>,\n",
       " <matplotlib.lines.Line2D at 0x14877dbf358>]"
      ]
     },
     "execution_count": 198,
     "metadata": {},
     "output_type": "execute_result"
    },
    {
     "data": {
      "image/png": "[encoded data removed]",
      "text/plain": [
       "<Figure size 1080x432 with 1 Axes>"
      ]
     },
     "metadata": {},
     "output_type": "display_data"
    }
   ],
   "source": [
    "plt.figure(figsize=(15,6))\n",
    "plt.plot(result)"
   ]
  },
  {
   "cell_type": "markdown",
   "metadata": {},
   "source": [
    "### 以四个模型的平均预测结果为最终结果"
   ]
  },
  {
   "cell_type": "code",
   "execution_count": 199,
   "metadata": {},
   "outputs": [],
   "source": [
    "final = result.apply(lambda x: x.sum(), axis=1)/4\n",
    "np.savetxt('final.txt',final)"
   ]
  }
 ],
 "metadata": {
  "kernelspec": {
   "display_name": "Python 3",
   "language": "python",
   "name": "python3"
  },
  "language_info": {
   "codemirror_mode": {
    "name": "ipython",
    "version": 3
   },
   "file_extension": ".py",
   "mimetype": "text/x-python",
   "name": "python",
   "nbconvert_exporter": "python",
   "pygments_lexer": "ipython3",
   "version": "3.6.5"
  }
 },
 "nbformat": 4,
 "nbformat_minor": 2
}
