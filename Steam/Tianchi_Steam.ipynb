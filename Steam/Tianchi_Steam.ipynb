{
 "cells": [
  {
   "cell_type": "markdown",
   "metadata": {},
   "source": [
    "# 蒸汽预测比赛\n",
    "____________________\n",
    "**tip:在做lasso选择特征的时候没有归一化处理，导致特征选择出错**"
   ]
  },
  {
   "cell_type": "markdown",
   "metadata": {},
   "source": [
    "### 导入要使用到的包"
   ]
  },
  {
   "cell_type": "code",
   "execution_count": 8,
   "metadata": {},
   "outputs": [],
   "source": [
    "%matplotlib inline\n",
    "import pandas as pd\n",
    "import numpy as np\n",
    "import lightgbm as lgb\n",
    "import warnings\n",
    "import matplotlib.pylab as plt\n",
    "from catboost import CatBoostRegressor\n",
    "from sklearn.ensemble import RandomForestRegressor \n",
    "from sklearn.ensemble import AdaBoostRegressor\n",
    "from sklearn.tree import DecisionTreeRegressor\n",
    "from sklearn.ensemble import GradientBoostingRegressor\n",
    "from sklearn.grid_search import GridSearchCV\n",
    "from sklearn import cross_validation, metrics\n",
    "from sklearn.model_selection import train_test_split\n",
    "from sklearn.cluster import KMeans\n",
    "from sklearn.linear_model import LassoCV\n",
    "from sklearn.metrics import mean_squared_error\n",
    "warnings.filterwarnings(\"ignore\")"
   ]
  },
  {
   "cell_type": "markdown",
   "metadata": {},
   "source": [
    "### 准备训练集数据"
   ]
  },
  {
   "cell_type": "code",
   "execution_count": 46,
   "metadata": {},
   "outputs": [],
   "source": [
    "df_train = pd.read_csv('./zhengqi_train.txt',sep='\\t')\n",
    "df_test = pd.read_csv('./zhengqi_test.txt',sep='\\t')"
   ]
  },
  {
   "cell_type": "code",
   "execution_count": 47,
   "metadata": {},
   "outputs": [],
   "source": [
    "Y_data = df_train['target']\n",
    "X_data = df_train.drop('target',axis=1)\n",
    "x_train,x_test,y_train,y_test = train_test_split(X_data,Y_data,train_size = 0.7)"
   ]
  },
  {
   "cell_type": "markdown",
   "metadata": {},
   "source": [
    "### 先用LassoCV做个特征选择"
   ]
  },
  {
   "cell_type": "code",
   "execution_count": 52,
   "metadata": {
    "scrolled": true
   },
   "outputs": [
    {
     "data": {
      "text/plain": [
       "0.10602643811465329"
      ]
     },
     "execution_count": 52,
     "metadata": {},
     "output_type": "execute_result"
    }
   ],
   "source": [
    "ls = LassoCV(cv=5,eps=0.0002)\n",
    "ls.fit(x_train,y_train)\n",
    "mean_squared_error(y_test,ls.predict(x_test))"
   ]
  },
  {
   "cell_type": "code",
   "execution_count": 49,
   "metadata": {},
   "outputs": [],
   "source": [
    "def Feature_delete(coef_,feature_name):\n",
    "    select = []\n",
    "    for i,feature_name in zip(coef_,feature_name):\n",
    "        if i == 0:\n",
    "            select.append(feature_name)\n",
    "        else:\n",
    "            pass\n",
    "    return select"
   ]
  },
  {
   "cell_type": "markdown",
   "metadata": {},
   "source": [
    "### 丢弃的特征 "
   ]
  },
  {
   "cell_type": "code",
   "execution_count": 53,
   "metadata": {
    "scrolled": true
   },
   "outputs": [
    {
     "data": {
      "text/plain": [
       "['V13', 'V16', 'V31']"
      ]
     },
     "execution_count": 53,
     "metadata": {},
     "output_type": "execute_result"
    }
   ],
   "source": [
    "Fd = Feature_delete(ls.coef_,x_train.columns)\n",
    "Fd"
   ]
  },
  {
   "cell_type": "code",
   "execution_count": 16,
   "metadata": {
    "scrolled": true
   },
   "outputs": [
    {
     "data": {
      "text/html": [
       "<div>\n",
       "<style scoped>\n",
       "    .dataframe tbody tr th:only-of-type {\n",
       "        vertical-align: middle;\n",
       "    }\n",
       "\n",
       "    .dataframe tbody tr th {\n",
       "        vertical-align: top;\n",
       "    }\n",
       "\n",
       "    .dataframe thead th {\n",
       "        text-align: right;\n",
       "    }\n",
       "</style>\n",
       "<table border=\"1\" class=\"dataframe\">\n",
       "  <thead>\n",
       "    <tr style=\"text-align: right;\">\n",
       "      <th></th>\n",
       "      <th>V0</th>\n",
       "      <th>V1</th>\n",
       "      <th>V2</th>\n",
       "      <th>V3</th>\n",
       "      <th>V4</th>\n",
       "      <th>V5</th>\n",
       "      <th>V6</th>\n",
       "      <th>V7</th>\n",
       "      <th>V8</th>\n",
       "      <th>V9</th>\n",
       "      <th>...</th>\n",
       "      <th>V27</th>\n",
       "      <th>V28</th>\n",
       "      <th>V29</th>\n",
       "      <th>V30</th>\n",
       "      <th>V32</th>\n",
       "      <th>V33</th>\n",
       "      <th>V34</th>\n",
       "      <th>V35</th>\n",
       "      <th>V36</th>\n",
       "      <th>V37</th>\n",
       "    </tr>\n",
       "  </thead>\n",
       "  <tbody>\n",
       "    <tr>\n",
       "      <th>0</th>\n",
       "      <td>0.566</td>\n",
       "      <td>0.016</td>\n",
       "      <td>-0.143</td>\n",
       "      <td>0.407</td>\n",
       "      <td>0.452</td>\n",
       "      <td>-0.901</td>\n",
       "      <td>-1.812</td>\n",
       "      <td>-2.360</td>\n",
       "      <td>-0.436</td>\n",
       "      <td>-2.114</td>\n",
       "      <td>...</td>\n",
       "      <td>0.168</td>\n",
       "      <td>-0.450</td>\n",
       "      <td>0.136</td>\n",
       "      <td>0.109</td>\n",
       "      <td>0.327</td>\n",
       "      <td>-4.627</td>\n",
       "      <td>-4.789</td>\n",
       "      <td>-5.101</td>\n",
       "      <td>-2.608</td>\n",
       "      <td>-3.508</td>\n",
       "    </tr>\n",
       "    <tr>\n",
       "      <th>1</th>\n",
       "      <td>0.968</td>\n",
       "      <td>0.437</td>\n",
       "      <td>0.066</td>\n",
       "      <td>0.566</td>\n",
       "      <td>0.194</td>\n",
       "      <td>-0.893</td>\n",
       "      <td>-1.566</td>\n",
       "      <td>-2.360</td>\n",
       "      <td>0.332</td>\n",
       "      <td>-2.114</td>\n",
       "      <td>...</td>\n",
       "      <td>0.338</td>\n",
       "      <td>0.671</td>\n",
       "      <td>-0.128</td>\n",
       "      <td>0.124</td>\n",
       "      <td>0.600</td>\n",
       "      <td>-0.843</td>\n",
       "      <td>0.160</td>\n",
       "      <td>0.364</td>\n",
       "      <td>-0.335</td>\n",
       "      <td>-0.730</td>\n",
       "    </tr>\n",
       "    <tr>\n",
       "      <th>2</th>\n",
       "      <td>1.013</td>\n",
       "      <td>0.568</td>\n",
       "      <td>0.235</td>\n",
       "      <td>0.370</td>\n",
       "      <td>0.112</td>\n",
       "      <td>-0.797</td>\n",
       "      <td>-1.367</td>\n",
       "      <td>-2.360</td>\n",
       "      <td>0.396</td>\n",
       "      <td>-2.114</td>\n",
       "      <td>...</td>\n",
       "      <td>0.326</td>\n",
       "      <td>1.287</td>\n",
       "      <td>-0.009</td>\n",
       "      <td>0.361</td>\n",
       "      <td>-0.116</td>\n",
       "      <td>-0.843</td>\n",
       "      <td>0.160</td>\n",
       "      <td>0.364</td>\n",
       "      <td>0.765</td>\n",
       "      <td>-0.589</td>\n",
       "    </tr>\n",
       "    <tr>\n",
       "      <th>3</th>\n",
       "      <td>0.733</td>\n",
       "      <td>0.368</td>\n",
       "      <td>0.283</td>\n",
       "      <td>0.165</td>\n",
       "      <td>0.599</td>\n",
       "      <td>-0.679</td>\n",
       "      <td>-1.200</td>\n",
       "      <td>-2.086</td>\n",
       "      <td>0.403</td>\n",
       "      <td>-2.114</td>\n",
       "      <td>...</td>\n",
       "      <td>0.277</td>\n",
       "      <td>1.298</td>\n",
       "      <td>0.015</td>\n",
       "      <td>0.417</td>\n",
       "      <td>0.603</td>\n",
       "      <td>-0.843</td>\n",
       "      <td>-0.065</td>\n",
       "      <td>0.364</td>\n",
       "      <td>0.333</td>\n",
       "      <td>-0.112</td>\n",
       "    </tr>\n",
       "    <tr>\n",
       "      <th>4</th>\n",
       "      <td>0.684</td>\n",
       "      <td>0.638</td>\n",
       "      <td>0.260</td>\n",
       "      <td>0.209</td>\n",
       "      <td>0.337</td>\n",
       "      <td>-0.454</td>\n",
       "      <td>-1.073</td>\n",
       "      <td>-2.086</td>\n",
       "      <td>0.314</td>\n",
       "      <td>-2.114</td>\n",
       "      <td>...</td>\n",
       "      <td>0.332</td>\n",
       "      <td>1.289</td>\n",
       "      <td>0.183</td>\n",
       "      <td>1.078</td>\n",
       "      <td>0.418</td>\n",
       "      <td>-0.843</td>\n",
       "      <td>-0.215</td>\n",
       "      <td>0.364</td>\n",
       "      <td>-0.280</td>\n",
       "      <td>-0.028</td>\n",
       "    </tr>\n",
       "  </tbody>\n",
       "</table>\n",
       "<p>5 rows × 33 columns</p>\n",
       "</div>"
      ],
      "text/plain": [
       "      V0     V1     V2     V3     V4     V5     V6     V7     V8     V9  \\\n",
       "0  0.566  0.016 -0.143  0.407  0.452 -0.901 -1.812 -2.360 -0.436 -2.114   \n",
       "1  0.968  0.437  0.066  0.566  0.194 -0.893 -1.566 -2.360  0.332 -2.114   \n",
       "2  1.013  0.568  0.235  0.370  0.112 -0.797 -1.367 -2.360  0.396 -2.114   \n",
       "3  0.733  0.368  0.283  0.165  0.599 -0.679 -1.200 -2.086  0.403 -2.114   \n",
       "4  0.684  0.638  0.260  0.209  0.337 -0.454 -1.073 -2.086  0.314 -2.114   \n",
       "\n",
       "   ...      V27    V28    V29    V30    V32    V33    V34    V35    V36    V37  \n",
       "0  ...    0.168 -0.450  0.136  0.109  0.327 -4.627 -4.789 -5.101 -2.608 -3.508  \n",
       "1  ...    0.338  0.671 -0.128  0.124  0.600 -0.843  0.160  0.364 -0.335 -0.730  \n",
       "2  ...    0.326  1.287 -0.009  0.361 -0.116 -0.843  0.160  0.364  0.765 -0.589  \n",
       "3  ...    0.277  1.298  0.015  0.417  0.603 -0.843 -0.065  0.364  0.333 -0.112  \n",
       "4  ...    0.332  1.289  0.183  1.078  0.418 -0.843 -0.215  0.364 -0.280 -0.028  \n",
       "\n",
       "[5 rows x 33 columns]"
      ]
     },
     "execution_count": 16,
     "metadata": {},
     "output_type": "execute_result"
    }
   ],
   "source": [
    "new_df = X_data.drop(Fd,axis=1)\n",
    "new_df.head()"
   ]
  },
  {
   "cell_type": "markdown",
   "metadata": {},
   "source": [
    "### 特征选择后模型的MSE有点提高"
   ]
  },
  {
   "cell_type": "code",
   "execution_count": 18,
   "metadata": {},
   "outputs": [
    {
     "data": {
      "text/plain": [
       "0.11076154642526383"
      ]
     },
     "execution_count": 18,
     "metadata": {},
     "output_type": "execute_result"
    }
   ],
   "source": [
    "x1_train,x1_test,y1_train,y1_test = train_test_split(new_df,Y_data,train_size = 0.8)\n",
    "ls = LassoCV(cv=5,eps=0.02)\n",
    "ls.fit(x1_train,y1_train)\n",
    "mean_squared_error(y1_test,ls.predict(x1_test))"
   ]
  },
  {
   "cell_type": "markdown",
   "metadata": {},
   "source": [
    "### Kmeans聚类分析，簇多一点方便检测离群点"
   ]
  },
  {
   "cell_type": "code",
   "execution_count": 19,
   "metadata": {},
   "outputs": [
    {
     "name": "stdout",
     "output_type": "stream",
     "text": [
      "7\n",
      "54\n"
     ]
    }
   ],
   "source": [
    "kmodel = KMeans(n_clusters = 10, n_jobs = 2) #K=9聚类\n",
    "kmodel.fit(new_df) \n",
    "new_df['label'] = kmodel.labels_  \n",
    "s = new_df['label'].value_counts().index[-1]\n",
    "print(s)\n",
    "t = new_df['label'].value_counts()\n",
    "ls = t.values[-1]\n",
    "print(ls)"
   ]
  },
  {
   "cell_type": "markdown",
   "metadata": {},
   "source": [
    "**聚类检测离群点并返回剔除后结果**"
   ]
  },
  {
   "cell_type": "code",
   "execution_count": 21,
   "metadata": {},
   "outputs": [
    {
     "name": "stdout",
     "output_type": "stream",
     "text": [
      "Delete: 31 data,Percentage 0.0107\n"
     ]
    }
   ],
   "source": [
    "def drop_bad_data(df_,k=10):\n",
    "    k_model_ = KMeans(n_clusters = k, n_jobs = 2).fit(df_)\n",
    "    df_['label'] = k_model_.labels_\n",
    "    bad_label = df_['label'].value_counts().index[-1]\n",
    "    delete_n = df_['label'].value_counts().values[-1]\n",
    "    total_n = df_.shape[0]\n",
    "    print('Delete: %.f data,Percentage %.4f'%(delete_n,delete_n/total_n))\n",
    "    dbd_df = df_[df_['label'] != bad_label]\n",
    "    return dbd_df.drop('label',axis=1)\n",
    "\n",
    "new_df_x = drop_bad_data(new_df,10)"
   ]
  },
  {
   "cell_type": "markdown",
   "metadata": {},
   "source": [
    "### 丢弃数量少的簇（离群数据）"
   ]
  },
  {
   "cell_type": "code",
   "execution_count": 22,
   "metadata": {},
   "outputs": [],
   "source": [
    "#new_df_x = new_df[new_df['label'] != 6].drop('label',axis=1)\n",
    "new_df_y = Y_data.reindex(index = new_df_x.index)"
   ]
  },
  {
   "cell_type": "markdown",
   "metadata": {},
   "source": [
    "### 从LassoCV的MSE来说，测试集数据又更纯洁了一点 "
   ]
  },
  {
   "cell_type": "code",
   "execution_count": 23,
   "metadata": {},
   "outputs": [
    {
     "data": {
      "text/plain": [
       "0.10981434307215636"
      ]
     },
     "execution_count": 23,
     "metadata": {},
     "output_type": "execute_result"
    }
   ],
   "source": [
    "x2_train,x2_test,y2_train,y2_test = train_test_split(new_df_x,new_df_y,train_size = 0.7)\n",
    "ls = LassoCV(cv=5,eps=0.02)\n",
    "ls.fit(x2_train,y2_train)\n",
    "mean_squared_error(y2_test,ls.predict(x2_test))"
   ]
  },
  {
   "cell_type": "markdown",
   "metadata": {},
   "source": [
    "### RandomForest模型"
   ]
  },
  {
   "cell_type": "code",
   "execution_count": 30,
   "metadata": {
    "scrolled": true
   },
   "outputs": [
    {
     "data": {
      "text/plain": [
       "0.145230880786385"
      ]
     },
     "execution_count": 30,
     "metadata": {},
     "output_type": "execute_result"
    }
   ],
   "source": [
    "rf0 = RandomForestRegressor(oob_score=True, random_state=10) #obb_score=True 即是否采用袋外样本来评估模型的好坏,默认FALSE\n",
    "rf0.fit(x2_train,y2_train)\n",
    "mean_squared_error(y2_test,rf0.predict(x2_test))"
   ]
  },
  {
   "cell_type": "code",
   "execution_count": 31,
   "metadata": {
    "scrolled": true
   },
   "outputs": [
    {
     "data": {
      "text/plain": [
       "([mean: -0.17710, std: 0.01462, params: {'n_estimators': 10},\n",
       "  mean: -0.17149, std: 0.01572, params: {'n_estimators': 20},\n",
       "  mean: -0.16513, std: 0.01606, params: {'n_estimators': 30},\n",
       "  mean: -0.16129, std: 0.01364, params: {'n_estimators': 40},\n",
       "  mean: -0.16114, std: 0.01323, params: {'n_estimators': 50},\n",
       "  mean: -0.16117, std: 0.01282, params: {'n_estimators': 60},\n",
       "  mean: -0.16231, std: 0.01252, params: {'n_estimators': 70}],\n",
       " {'n_estimators': 50},\n",
       " -0.1611420647928479)"
      ]
     },
     "execution_count": 31,
     "metadata": {},
     "output_type": "execute_result"
    }
   ],
   "source": [
    "param_test1 = {'n_estimators':[10,20,30,40,50,60,70]}\n",
    "gsearch1 = GridSearchCV(estimator = RandomForestRegressor(min_samples_split=100,\n",
    "                                  min_samples_leaf=20,max_depth=8,max_features='sqrt' ,random_state=10), \n",
    "                       param_grid = param_test1, scoring='neg_mean_squared_error',cv=5)\n",
    "gsearch1.fit(x2_train,y2_train)\n",
    "gsearch1.grid_scores_, gsearch1.best_params_, gsearch1.best_score_"
   ]
  },
  {
   "cell_type": "code",
   "execution_count": 14,
   "metadata": {},
   "outputs": [
    {
     "data": {
      "text/plain": [
       "([mean: -0.16382, std: 0.01804, params: {'max_depth': 13, 'min_samples_split': 20},\n",
       "  mean: -0.16382, std: 0.01804, params: {'max_depth': 13, 'min_samples_split': 40},\n",
       "  mean: -0.17339, std: 0.01825, params: {'max_depth': 13, 'min_samples_split': 60},\n",
       "  mean: -0.17854, std: 0.01908, params: {'max_depth': 13, 'min_samples_split': 80},\n",
       "  mean: -0.16382, std: 0.01804, params: {'max_depth': 15, 'min_samples_split': 20},\n",
       "  mean: -0.16382, std: 0.01804, params: {'max_depth': 15, 'min_samples_split': 40},\n",
       "  mean: -0.17339, std: 0.01825, params: {'max_depth': 15, 'min_samples_split': 60},\n",
       "  mean: -0.17854, std: 0.01908, params: {'max_depth': 15, 'min_samples_split': 80},\n",
       "  mean: -0.16382, std: 0.01804, params: {'max_depth': 17, 'min_samples_split': 20},\n",
       "  mean: -0.16382, std: 0.01804, params: {'max_depth': 17, 'min_samples_split': 40},\n",
       "  mean: -0.17339, std: 0.01825, params: {'max_depth': 17, 'min_samples_split': 60},\n",
       "  mean: -0.17854, std: 0.01908, params: {'max_depth': 17, 'min_samples_split': 80},\n",
       "  mean: -0.16382, std: 0.01804, params: {'max_depth': 20, 'min_samples_split': 20},\n",
       "  mean: -0.16382, std: 0.01804, params: {'max_depth': 20, 'min_samples_split': 40},\n",
       "  mean: -0.17339, std: 0.01825, params: {'max_depth': 20, 'min_samples_split': 60},\n",
       "  mean: -0.17854, std: 0.01908, params: {'max_depth': 20, 'min_samples_split': 80}],\n",
       " {'max_depth': 13, 'min_samples_split': 20},\n",
       " -0.1638220504978877)"
      ]
     },
     "execution_count": 14,
     "metadata": {},
     "output_type": "execute_result"
    }
   ],
   "source": [
    "param_test2 = {'max_depth':[13,15,17,20], 'min_samples_split':[20,40,60,80]}\n",
    "gsearch2 = GridSearchCV(estimator = RandomForestRegressor(n_estimators= 50, \n",
    "                                  min_samples_leaf=20,max_features='sqrt' ,oob_score=True, random_state=10),\n",
    "                        param_grid = param_test2,scoring='neg_mean_squared_error',cv=5)\n",
    "gsearch2.fit(x2_train,y2_train)\n",
    "gsearch2.grid_scores_, gsearch2.best_params_, gsearch2.best_score_"
   ]
  },
  {
   "cell_type": "code",
   "execution_count": 15,
   "metadata": {},
   "outputs": [
    {
     "data": {
      "text/plain": [
       "0.1395547141609921"
      ]
     },
     "execution_count": 15,
     "metadata": {},
     "output_type": "execute_result"
    }
   ],
   "source": [
    "rf1 = RandomForestRegressor(n_estimators= 50, max_depth=13, min_samples_split=20,\n",
    "                                  min_samples_leaf=20,max_features='sqrt' ,oob_score=True, random_state=10)\n",
    "rf1.fit(x2_train,y2_train)\n",
    "mean_squared_error(y2_test,rf1.predict(x2_test))"
   ]
  },
  {
   "cell_type": "code",
   "execution_count": 16,
   "metadata": {
    "scrolled": true
   },
   "outputs": [
    {
     "data": {
      "text/plain": [
       "([mean: -0.14932, std: 0.01790, params: {'min_samples_leaf': 10},\n",
       "  mean: -0.16380, std: 0.01804, params: {'min_samples_leaf': 20},\n",
       "  mean: -0.17879, std: 0.01759, params: {'min_samples_leaf': 30},\n",
       "  mean: -0.18914, std: 0.01660, params: {'min_samples_leaf': 40},\n",
       "  mean: -0.20636, std: 0.01833, params: {'min_samples_leaf': 50}],\n",
       " {'min_samples_leaf': 10},\n",
       " -0.14931921457736444)"
      ]
     },
     "execution_count": 16,
     "metadata": {},
     "output_type": "execute_result"
    }
   ],
   "source": [
    "param_test3 = {'min_samples_leaf':[10,20,30,40,50]}\n",
    "gsearch3 = GridSearchCV(estimator = RandomForestRegressor(n_estimators= 50, max_depth=13,min_samples_split=20,\n",
    "                                  max_features='sqrt' ,oob_score=True, random_state=10),\n",
    "   param_grid = param_test3, scoring='neg_mean_squared_error',iid=False, cv=5)\n",
    "gsearch3.fit(x2_train,y2_train)\n",
    "gsearch3.grid_scores_, gsearch3.best_params_, gsearch3.best_score_"
   ]
  },
  {
   "cell_type": "code",
   "execution_count": 17,
   "metadata": {},
   "outputs": [
    {
     "data": {
      "text/plain": [
       "0.12802584242669934"
      ]
     },
     "execution_count": 17,
     "metadata": {},
     "output_type": "execute_result"
    }
   ],
   "source": [
    "rf2 = RandomForestRegressor(n_estimators= 50, max_depth=13, min_samples_split=20,\n",
    "                                  min_samples_leaf=10,max_features='sqrt' ,oob_score=True, random_state=10)\n",
    "rf2.fit(x2_train,y2_train)\n",
    "mean_squared_error(y2_test,rf2.predict(x2_test))"
   ]
  },
  {
   "cell_type": "code",
   "execution_count": 18,
   "metadata": {
    "scrolled": true
   },
   "outputs": [
    {
     "data": {
      "text/plain": [
       "([mean: -0.14616, std: 0.01528, params: {'max_features': 4},\n",
       "  mean: -0.14496, std: 0.01764, params: {'max_features': 5},\n",
       "  mean: -0.14505, std: 0.01736, params: {'max_features': 6},\n",
       "  mean: -0.14652, std: 0.01935, params: {'max_features': 7},\n",
       "  mean: -0.14731, std: 0.01871, params: {'max_features': 8},\n",
       "  mean: -0.14757, std: 0.01940, params: {'max_features': 9}],\n",
       " {'max_features': 5},\n",
       " -0.14496280950823384)"
      ]
     },
     "execution_count": 18,
     "metadata": {},
     "output_type": "execute_result"
    }
   ],
   "source": [
    "param_test4 = {'max_features':[4,5,6,7,8,9]}\n",
    "gsearch4 = GridSearchCV(estimator = RandomForestRegressor(n_estimators= 50, max_depth=13, min_samples_split=20,\n",
    "                                  min_samples_leaf=10 ,oob_score=True, random_state=10),\n",
    "   param_grid = param_test4, scoring='neg_mean_squared_error',iid=False, cv=5)\n",
    "gsearch4.fit(x2_train,y2_train)\n",
    "gsearch4.grid_scores_, gsearch4.best_params_, gsearch4.best_score_"
   ]
  },
  {
   "cell_type": "markdown",
   "metadata": {},
   "source": [
    "### RandomForest模型 "
   ]
  },
  {
   "cell_type": "code",
   "execution_count": 25,
   "metadata": {},
   "outputs": [
    {
     "data": {
      "text/plain": [
       "0.12145516357047532"
      ]
     },
     "execution_count": 25,
     "metadata": {},
     "output_type": "execute_result"
    }
   ],
   "source": [
    "rf3 = RandomForestRegressor(n_estimators= 50, max_depth=13, min_samples_split=20,\n",
    "                                  min_samples_leaf=10,max_features=7 ,oob_score=True, random_state=10)\n",
    "rf3.fit(x2_train,y2_train)\n",
    "mean_squared_error(y2_test,rf3.predict(x2_test))"
   ]
  },
  {
   "cell_type": "markdown",
   "metadata": {},
   "source": [
    "### AdaBoost模型\n",
    "**AdaBoost调参一样用GridSerchCV调参**"
   ]
  },
  {
   "cell_type": "code",
   "execution_count": 26,
   "metadata": {},
   "outputs": [
    {
     "data": {
      "text/plain": [
       "0.11578447284711015"
      ]
     },
     "execution_count": 26,
     "metadata": {},
     "output_type": "execute_result"
    }
   ],
   "source": [
    "bdt = AdaBoostRegressor(DecisionTreeRegressor(max_depth=25, min_samples_split=50, min_samples_leaf=20,criterion='mse'),loss='square',\n",
    "                         n_estimators=100, learning_rate=0.6)\n",
    "bdt.fit(x2_train, y2_train)\n",
    "mean_squared_error(y2_test,bdt.predict(x2_test))"
   ]
  },
  {
   "cell_type": "markdown",
   "metadata": {},
   "source": [
    "### GBDT模型\n",
    "**GBDT模型调参也是一样的**"
   ]
  },
  {
   "cell_type": "code",
   "execution_count": 27,
   "metadata": {},
   "outputs": [
    {
     "data": {
      "text/plain": [
       "0.11473343792382075"
      ]
     },
     "execution_count": 27,
     "metadata": {},
     "output_type": "execute_result"
    }
   ],
   "source": [
    "gbm = GradientBoostingRegressor(learning_rate=0.2, n_estimators=80,max_depth=13, min_samples_leaf =60, \n",
    "                                min_samples_split =800, max_features='sqrt', subsample=0.9, random_state=10)\n",
    "\n",
    "gbm.fit(x2_train,y2_train)\n",
    "mean_squared_error(y2_test,gbm.predict(x2_test))"
   ]
  },
  {
   "cell_type": "markdown",
   "metadata": {},
   "source": [
    "### LightGBM模型\n",
    "**LGB模型调参也是一样的**"
   ]
  },
  {
   "cell_type": "code",
   "execution_count": 28,
   "metadata": {},
   "outputs": [
    {
     "data": {
      "text/plain": [
       "0.11288872840905767"
      ]
     },
     "execution_count": 28,
     "metadata": {},
     "output_type": "execute_result"
    }
   ],
   "source": [
    "lgb_model = lgb.LGBMModel(boosting_type='gbdt', num_leaves=35, max_depth=20, max_bin=255, learning_rate=0.03,n_estimator=10,\n",
    "                                                   subsample_for_bin=200000, objective='regression', min_split_gain=0.0, \n",
    "                                                   min_child_weight=0.001, min_child_samples=20, subsample=1.0, verbose= 0,\n",
    "                                                   subsample_freq=1, colsample_bytree=1.0, reg_alpha=0.0, reg_lambda=0.0,\n",
    "                                                   random_state=None, n_jobs=-1, silent=True)\n",
    "\n",
    "lgb_model.fit(x2_train,y2_train)\n",
    "mean_squared_error(y2_test,lgb_model.predict(x2_test))"
   ]
  },
  {
   "cell_type": "markdown",
   "metadata": {},
   "source": [
    "### 准备预测数据"
   ]
  },
  {
   "cell_type": "code",
   "execution_count": 78,
   "metadata": {},
   "outputs": [
    {
     "data": {
      "text/html": [
       "<div>\n",
       "<style scoped>\n",
       "    .dataframe tbody tr th:only-of-type {\n",
       "        vertical-align: middle;\n",
       "    }\n",
       "\n",
       "    .dataframe tbody tr th {\n",
       "        vertical-align: top;\n",
       "    }\n",
       "\n",
       "    .dataframe thead th {\n",
       "        text-align: right;\n",
       "    }\n",
       "</style>\n",
       "<table border=\"1\" class=\"dataframe\">\n",
       "  <thead>\n",
       "    <tr style=\"text-align: right;\">\n",
       "      <th></th>\n",
       "      <th>V0</th>\n",
       "      <th>V1</th>\n",
       "      <th>V2</th>\n",
       "      <th>V3</th>\n",
       "      <th>V4</th>\n",
       "      <th>V5</th>\n",
       "      <th>V6</th>\n",
       "      <th>V7</th>\n",
       "      <th>V8</th>\n",
       "      <th>V9</th>\n",
       "      <th>...</th>\n",
       "      <th>V27</th>\n",
       "      <th>V28</th>\n",
       "      <th>V29</th>\n",
       "      <th>V30</th>\n",
       "      <th>V32</th>\n",
       "      <th>V33</th>\n",
       "      <th>V34</th>\n",
       "      <th>V35</th>\n",
       "      <th>V36</th>\n",
       "      <th>V37</th>\n",
       "    </tr>\n",
       "  </thead>\n",
       "  <tbody>\n",
       "    <tr>\n",
       "      <th>0</th>\n",
       "      <td>0.368</td>\n",
       "      <td>0.380</td>\n",
       "      <td>-0.225</td>\n",
       "      <td>-0.049</td>\n",
       "      <td>0.379</td>\n",
       "      <td>0.092</td>\n",
       "      <td>0.550</td>\n",
       "      <td>0.551</td>\n",
       "      <td>0.244</td>\n",
       "      <td>0.904</td>\n",
       "      <td>...</td>\n",
       "      <td>0.208</td>\n",
       "      <td>-0.449</td>\n",
       "      <td>0.047</td>\n",
       "      <td>0.057</td>\n",
       "      <td>0.847</td>\n",
       "      <td>0.534</td>\n",
       "      <td>-0.009</td>\n",
       "      <td>-0.190</td>\n",
       "      <td>-0.567</td>\n",
       "      <td>0.388</td>\n",
       "    </tr>\n",
       "    <tr>\n",
       "      <th>1</th>\n",
       "      <td>0.148</td>\n",
       "      <td>0.489</td>\n",
       "      <td>-0.247</td>\n",
       "      <td>-0.049</td>\n",
       "      <td>0.122</td>\n",
       "      <td>-0.201</td>\n",
       "      <td>0.487</td>\n",
       "      <td>0.493</td>\n",
       "      <td>-0.127</td>\n",
       "      <td>0.904</td>\n",
       "      <td>...</td>\n",
       "      <td>0.226</td>\n",
       "      <td>-0.443</td>\n",
       "      <td>0.047</td>\n",
       "      <td>0.560</td>\n",
       "      <td>0.551</td>\n",
       "      <td>0.046</td>\n",
       "      <td>-0.220</td>\n",
       "      <td>0.008</td>\n",
       "      <td>-0.294</td>\n",
       "      <td>0.104</td>\n",
       "    </tr>\n",
       "    <tr>\n",
       "      <th>2</th>\n",
       "      <td>-0.166</td>\n",
       "      <td>-0.062</td>\n",
       "      <td>-0.311</td>\n",
       "      <td>0.046</td>\n",
       "      <td>-0.055</td>\n",
       "      <td>0.063</td>\n",
       "      <td>0.485</td>\n",
       "      <td>0.493</td>\n",
       "      <td>-0.227</td>\n",
       "      <td>0.904</td>\n",
       "      <td>...</td>\n",
       "      <td>0.084</td>\n",
       "      <td>-0.458</td>\n",
       "      <td>-0.398</td>\n",
       "      <td>0.101</td>\n",
       "      <td>0.634</td>\n",
       "      <td>0.017</td>\n",
       "      <td>-0.234</td>\n",
       "      <td>0.008</td>\n",
       "      <td>0.373</td>\n",
       "      <td>0.569</td>\n",
       "    </tr>\n",
       "    <tr>\n",
       "      <th>3</th>\n",
       "      <td>0.102</td>\n",
       "      <td>0.294</td>\n",
       "      <td>-0.259</td>\n",
       "      <td>0.051</td>\n",
       "      <td>-0.183</td>\n",
       "      <td>0.148</td>\n",
       "      <td>0.474</td>\n",
       "      <td>0.504</td>\n",
       "      <td>0.010</td>\n",
       "      <td>0.904</td>\n",
       "      <td>...</td>\n",
       "      <td>0.203</td>\n",
       "      <td>-0.456</td>\n",
       "      <td>-0.398</td>\n",
       "      <td>1.007</td>\n",
       "      <td>1.042</td>\n",
       "      <td>-0.040</td>\n",
       "      <td>-0.290</td>\n",
       "      <td>0.008</td>\n",
       "      <td>-0.666</td>\n",
       "      <td>0.391</td>\n",
       "    </tr>\n",
       "    <tr>\n",
       "      <th>4</th>\n",
       "      <td>0.300</td>\n",
       "      <td>0.428</td>\n",
       "      <td>0.208</td>\n",
       "      <td>0.051</td>\n",
       "      <td>-0.033</td>\n",
       "      <td>0.116</td>\n",
       "      <td>0.408</td>\n",
       "      <td>0.497</td>\n",
       "      <td>0.155</td>\n",
       "      <td>0.904</td>\n",
       "      <td>...</td>\n",
       "      <td>0.227</td>\n",
       "      <td>-0.458</td>\n",
       "      <td>-0.776</td>\n",
       "      <td>0.291</td>\n",
       "      <td>0.181</td>\n",
       "      <td>-0.040</td>\n",
       "      <td>-0.290</td>\n",
       "      <td>0.008</td>\n",
       "      <td>-0.140</td>\n",
       "      <td>-0.497</td>\n",
       "    </tr>\n",
       "  </tbody>\n",
       "</table>\n",
       "<p>5 rows × 33 columns</p>\n",
       "</div>"
      ],
      "text/plain": [
       "      V0     V1     V2     V3     V4     V5     V6     V7     V8     V9  \\\n",
       "0  0.368  0.380 -0.225 -0.049  0.379  0.092  0.550  0.551  0.244  0.904   \n",
       "1  0.148  0.489 -0.247 -0.049  0.122 -0.201  0.487  0.493 -0.127  0.904   \n",
       "2 -0.166 -0.062 -0.311  0.046 -0.055  0.063  0.485  0.493 -0.227  0.904   \n",
       "3  0.102  0.294 -0.259  0.051 -0.183  0.148  0.474  0.504  0.010  0.904   \n",
       "4  0.300  0.428  0.208  0.051 -0.033  0.116  0.408  0.497  0.155  0.904   \n",
       "\n",
       "   ...      V27    V28    V29    V30    V32    V33    V34    V35    V36    V37  \n",
       "0  ...    0.208 -0.449  0.047  0.057  0.847  0.534 -0.009 -0.190 -0.567  0.388  \n",
       "1  ...    0.226 -0.443  0.047  0.560  0.551  0.046 -0.220  0.008 -0.294  0.104  \n",
       "2  ...    0.084 -0.458 -0.398  0.101  0.634  0.017 -0.234  0.008  0.373  0.569  \n",
       "3  ...    0.203 -0.456 -0.398  1.007  1.042 -0.040 -0.290  0.008 -0.666  0.391  \n",
       "4  ...    0.227 -0.458 -0.776  0.291  0.181 -0.040 -0.290  0.008 -0.140 -0.497  \n",
       "\n",
       "[5 rows x 33 columns]"
      ]
     },
     "execution_count": 78,
     "metadata": {},
     "output_type": "execute_result"
    }
   ],
   "source": [
    "x2_train.columns\n",
    "df_test_fit = df_test[x2_train.columns]\n",
    "df_test_fit.head()"
   ]
  },
  {
   "cell_type": "code",
   "execution_count": 101,
   "metadata": {},
   "outputs": [],
   "source": [
    "result = pd.DataFrame()\n",
    "result['rf'] = rf3.predict(df_test_fit)\n",
    "result['adaboost'] = bdt.predict(df_test_fit)\n",
    "result['gbdt'] = gbm.predict(df_test_fit)\n",
    "result['lightgbm'] = lgb_model.predict(df_test_fit)"
   ]
  },
  {
   "cell_type": "markdown",
   "metadata": {},
   "source": [
    "### Stacking方法对集成学习再做训练 "
   ]
  },
  {
   "cell_type": "code",
   "execution_count": 109,
   "metadata": {},
   "outputs": [
    {
     "data": {
      "text/plain": [
       "0.03776383884478571"
      ]
     },
     "execution_count": 109,
     "metadata": {},
     "output_type": "execute_result"
    }
   ],
   "source": [
    "from sklearn.linear_model import RidgeCV\n",
    "from sklearn.metrics import mean_absolute_error\n",
    "result1 = pd.DataFrame()\n",
    "result1['rf'] = rf3.predict(x2_train)\n",
    "result1['adaboost'] = bdt.predict(x2_train)\n",
    "result1['gbdt'] = gbm.predict(x2_train)\n",
    "result1['lightgbm'] = lgb_model.predict(x2_train)\n",
    "ls2 = RidgeCV(cv=5).fit(result1,y2_train)\n",
    "coefs = ls2.coef_\n",
    "intercepts = ls2.intercept_\n",
    "mean_squared_error(y2_train,ls2.predict(result1))"
   ]
  },
  {
   "cell_type": "markdown",
   "metadata": {},
   "source": [
    "### 画图看看预测结果相互之间差距大不大 "
   ]
  },
  {
   "cell_type": "code",
   "execution_count": 31,
   "metadata": {
    "scrolled": false
   },
   "outputs": [
    {
     "data": {
      "text/plain": [
       "[<matplotlib.lines.Line2D at 0x7fede8c99470>,\n",
       " <matplotlib.lines.Line2D at 0x7fede8c99588>,\n",
       " <matplotlib.lines.Line2D at 0x7fede8c996d8>,\n",
       " <matplotlib.lines.Line2D at 0x7fede8c99828>]"
      ]
     },
     "execution_count": 31,
     "metadata": {},
     "output_type": "execute_result"
    },
    {
     "data": {
      "image/png": "[encoded data removed]",
      "text/plain": [
       "<Figure size 1080x432 with 1 Axes>"
      ]
     },
     "metadata": {
      "needs_background": "light"
     },
     "output_type": "display_data"
    }
   ],
   "source": [
    "plt.figure(figsize=(15,6))\n",
    "plt.plot(result)"
   ]
  },
  {
   "cell_type": "markdown",
   "metadata": {},
   "source": [
    "### 以四个模型加上Stacking后的结果为最终结果"
   ]
  },
  {
   "cell_type": "code",
   "execution_count": 110,
   "metadata": {},
   "outputs": [],
   "source": [
    "final = (result*coefs).apply(lambda x: x.sum(), axis=1) + intercepts\n",
    "np.savetxt('final_stacking.txt',final)"
   ]
  },
  {
   "cell_type": "code",
   "execution_count": 106,
   "metadata": {
    "scrolled": true
   },
   "outputs": [
    {
     "data": {
      "text/html": [
       "<div>\n",
       "<style scoped>\n",
       "    .dataframe tbody tr th:only-of-type {\n",
       "        vertical-align: middle;\n",
       "    }\n",
       "\n",
       "    .dataframe tbody tr th {\n",
       "        vertical-align: top;\n",
       "    }\n",
       "\n",
       "    .dataframe thead th {\n",
       "        text-align: right;\n",
       "    }\n",
       "</style>\n",
       "<table border=\"1\" class=\"dataframe\">\n",
       "  <thead>\n",
       "    <tr style=\"text-align: right;\">\n",
       "      <th></th>\n",
       "      <th>rf</th>\n",
       "      <th>adaboost</th>\n",
       "      <th>gbdt</th>\n",
       "      <th>lightgbm</th>\n",
       "    </tr>\n",
       "  </thead>\n",
       "  <tbody>\n",
       "    <tr>\n",
       "      <th>0</th>\n",
       "      <td>0.299375</td>\n",
       "      <td>0.332433</td>\n",
       "      <td>0.281389</td>\n",
       "      <td>0.301615</td>\n",
       "    </tr>\n",
       "    <tr>\n",
       "      <th>1</th>\n",
       "      <td>0.217211</td>\n",
       "      <td>0.312615</td>\n",
       "      <td>0.177823</td>\n",
       "      <td>0.286995</td>\n",
       "    </tr>\n",
       "    <tr>\n",
       "      <th>2</th>\n",
       "      <td>-0.041929</td>\n",
       "      <td>0.119079</td>\n",
       "      <td>0.144796</td>\n",
       "      <td>0.045329</td>\n",
       "    </tr>\n",
       "    <tr>\n",
       "      <th>3</th>\n",
       "      <td>0.108301</td>\n",
       "      <td>0.133625</td>\n",
       "      <td>0.076269</td>\n",
       "      <td>0.180308</td>\n",
       "    </tr>\n",
       "    <tr>\n",
       "      <th>4</th>\n",
       "      <td>0.210868</td>\n",
       "      <td>0.323000</td>\n",
       "      <td>0.408912</td>\n",
       "      <td>0.271519</td>\n",
       "    </tr>\n",
       "  </tbody>\n",
       "</table>\n",
       "</div>"
      ],
      "text/plain": [
       "         rf  adaboost      gbdt  lightgbm\n",
       "0  0.299375  0.332433  0.281389  0.301615\n",
       "1  0.217211  0.312615  0.177823  0.286995\n",
       "2 -0.041929  0.119079  0.144796  0.045329\n",
       "3  0.108301  0.133625  0.076269  0.180308\n",
       "4  0.210868  0.323000  0.408912  0.271519"
      ]
     },
     "execution_count": 106,
     "metadata": {},
     "output_type": "execute_result"
    }
   ],
   "source": [
    "result.head()"
   ]
  },
  {
   "cell_type": "markdown",
   "metadata": {},
   "source": [
    "**看Stacking后的系数，结果显示Adaboost和lightGBM权重更大** "
   ]
  },
  {
   "cell_type": "code",
   "execution_count": 116,
   "metadata": {},
   "outputs": [
    {
     "name": "stdout",
     "output_type": "stream",
     "text": [
      "[-0.56773917  0.80826305 -0.15141734  0.95718059]\n"
     ]
    },
    {
     "data": {
      "text/plain": [
       "-0.01443766649758886"
      ]
     },
     "execution_count": 116,
     "metadata": {},
     "output_type": "execute_result"
    }
   ],
   "source": [
    "print(coefs)\n",
    "intercepts"
   ]
  },
  {
   "cell_type": "markdown",
   "metadata": {},
   "source": [
    "## 总结：\n",
    "**上面的模型做出来提交结果MSE在0.14左右，GBDT和LightGBM都是梯度提升树因此有点重复，而且用Lasso做特征选择得到的结果好像不怎么好？**\n",
    "\n",
    "**模型主要的问题是容易过拟合，一旦过拟合结果就会特别差，Stacking可以很好的避免过拟合**"
   ]
  },
  {
   "cell_type": "code",
   "execution_count": 107,
   "metadata": {
    "scrolled": false
   },
   "outputs": [
    {
     "data": {
      "text/plain": [
       "0    0.330382\n",
       "1    0.362699\n",
       "2    0.127078\n",
       "3    0.193119\n",
       "4    0.324890\n",
       "dtype: float64"
      ]
     },
     "execution_count": 107,
     "metadata": {},
     "output_type": "execute_result"
    }
   ],
   "source": [
    "final[:5]"
   ]
  },
  {
   "cell_type": "markdown",
   "metadata": {},
   "source": [
    "# Stacking_2\n",
    "----------------------------\n",
    "**天池比赛提交的是这个模型的结果，MSE=0.1222**\n",
    "\n",
    "**Lasso RandomForest LightGBM SVR Ridge**"
   ]
  },
  {
   "cell_type": "markdown",
   "metadata": {},
   "source": [
    "### 再次读取训练集数据"
   ]
  },
  {
   "cell_type": "code",
   "execution_count": 3,
   "metadata": {},
   "outputs": [],
   "source": [
    "df_train = pd.read_csv('./zhengqi_train.txt',sep='\\t')\n",
    "Y_data = df_train['target']\n",
    "X_data = df_train.drop('target',axis=1)\n",
    "#x_train,x_test,y_train,y_test = train_test_split(X_data,Y_data,train_size = 0.7)"
   ]
  },
  {
   "cell_type": "code",
   "execution_count": 94,
   "metadata": {},
   "outputs": [],
   "source": [
    "from sklearn.preprocessing import StandardScaler\n",
    "from sklearn.preprocessing import MinMaxScaler\n",
    "\n",
    "SS = StandardScaler()\n",
    "MMS = MinMaxScaler()\n",
    "X_data_SS = SS.fit_transform(X_data)\n",
    "X_data_MMS = MMS.fit_transform(X_data)"
   ]
  },
  {
   "cell_type": "code",
   "execution_count": 4,
   "metadata": {},
   "outputs": [],
   "source": [
    "bad_f = ['V5','V17','V28','V22','V11','V9','V27']\n",
    "df_train = df_train.drop(bad_f,axis=1)"
   ]
  },
  {
   "cell_type": "code",
   "execution_count": 73,
   "metadata": {},
   "outputs": [],
   "source": [
    "X_data2 = pd.DataFrame(X_data_MMS,columns = X_data.columns)"
   ]
  },
  {
   "cell_type": "markdown",
   "metadata": {},
   "source": [
    "### 用相关系数挑选特征 "
   ]
  },
  {
   "cell_type": "code",
   "execution_count": 3,
   "metadata": {
    "scrolled": false
   },
   "outputs": [
    {
     "data": {
      "text/plain": [
       "['V14', 'V21', 'V25', 'V26', 'V32', 'V33', 'V34']"
      ]
     },
     "execution_count": 3,
     "metadata": {},
     "output_type": "execute_result"
    }
   ],
   "source": [
    "corr = df_train.corr()\n",
    "corr['target']\n",
    "def get_feature_corr(list_,feature,limit_corr):\n",
    "    feature_ = []\n",
    "    for i_,f_ in zip(list_,feature):\n",
    "        if abs(i_) < limit_corr:\n",
    "            feature_.append(f_)\n",
    "        else:\n",
    "            pass\n",
    "    return feature_\n",
    "    \n",
    "g_f_c = get_feature_corr(corr['target'],df_train.columns,0.1)\n",
    "g_f_c"
   ]
  },
  {
   "cell_type": "markdown",
   "metadata": {},
   "source": [
    "### 用方差挑选特征"
   ]
  },
  {
   "cell_type": "code",
   "execution_count": 4,
   "metadata": {},
   "outputs": [
    {
     "data": {
      "text/plain": [
       "['V5', 'V27']"
      ]
     },
     "execution_count": 4,
     "metadata": {},
     "output_type": "execute_result"
    }
   ],
   "source": [
    "std = X_data.std()\n",
    "def get_feature_std(std,feature_name,limit_std):\n",
    "    feature_ = []\n",
    "    for i,j in zip(std,feature_name):\n",
    "        if i < limit_std:\n",
    "            feature_.append(j)\n",
    "        else:\n",
    "            pass\n",
    "    return feature_\n",
    "\n",
    "g_f_s = get_feature_std(std,df_train.columns,0.6)\n",
    "g_f_s"
   ]
  },
  {
   "cell_type": "markdown",
   "metadata": {},
   "source": [
    "### 用聚类剔除异常点"
   ]
  },
  {
   "cell_type": "code",
   "execution_count": 27,
   "metadata": {},
   "outputs": [],
   "source": [
    "def drop_bad_data(df_,k=10):\n",
    "    k_model_ = KMeans(n_clusters = k, n_jobs = 2).fit(df_)\n",
    "    df_['label'] = k_model_.labels_\n",
    "    bad_label = df_['label'].value_counts().index[-1]\n",
    "    delete_n = df_['label'].value_counts().values[-1]\n",
    "    total_n = df_.shape[0]\n",
    "    print('Delete: %.f data,Percentage %.4f'%(delete_n,delete_n/total_n))\n",
    "    dbd_df = df_[df_['label'] != bad_label]\n",
    "    return dbd_df.drop('label',axis=1)\n",
    "\n",
    "#df_train_new = drop_bad_data(df_train,k=10)\n",
    "df_train_new = df_get"
   ]
  },
  {
   "cell_type": "markdown",
   "metadata": {},
   "source": [
    "### 最后是用方差提取的特征，删除了V5,V27"
   ]
  },
  {
   "cell_type": "code",
   "execution_count": 45,
   "metadata": {},
   "outputs": [
    {
     "name": "stdout",
     "output_type": "stream",
     "text": [
      "svr：0.145004\n",
      "lgb：0.131726\n",
      "r f：0.147406\n",
      "l s：0.133293\n",
      "bdt: 0.141677 \n",
      "gbm: 0.149935\n",
      "0:\tlearn: 0.5177016\ttotal: 307ms\tremaining: 2.77s\n",
      "1:\tlearn: 0.4390981\ttotal: 611ms\tremaining: 2.44s\n",
      "2:\tlearn: 0.4235957\ttotal: 916ms\tremaining: 2.14s\n",
      "3:\tlearn: 0.4156781\ttotal: 1.23s\tremaining: 1.84s\n",
      "4:\tlearn: 0.4106440\ttotal: 1.52s\tremaining: 1.52s\n",
      "5:\tlearn: 0.4007361\ttotal: 1.81s\tremaining: 1.21s\n",
      "6:\tlearn: 0.3976261\ttotal: 2.23s\tremaining: 955ms\n",
      "7:\tlearn: 0.3678774\ttotal: 2.53s\tremaining: 632ms\n",
      "8:\tlearn: 0.3659654\ttotal: 2.82s\tremaining: 313ms\n",
      "9:\tlearn: 0.3648234\ttotal: 2.87s\tremaining: 0us\n",
      "cat: 0.209896\n",
      "[ 0.31784233  0.87843297 -0.18649304] -0.0024398053450862822\n",
      "0.08537741758065069\n"
     ]
    }
   ],
   "source": [
    "import pandas as pd\n",
    "import numpy as np\n",
    "from sklearn.linear_model import RidgeCV\n",
    "from sklearn.metrics import mean_absolute_error\n",
    "from sklearn.svm import SVR\n",
    "from sklearn.linear_model import LassoCV\n",
    "import lightgbm as lgb\n",
    "from sklearn.model_selection import train_test_split\n",
    "from sklearn.metrics import mean_squared_error\n",
    "\n",
    "X_data2 = X_data.drop(g_f_s,axis=1)\n",
    "\n",
    "x_train,x_test,y_train,y_test = train_test_split(X_data2,Y_data,train_size = 0.7,random_state=100)\n",
    "#############################################\n",
    "svr_ = SVR(kernel='rbf', degree=5, coef0=0.0, tol=0.01, C=1.0, epsilon=0.01, shrinking=True, cache_size=200, verbose=False, \n",
    "           max_iter=-1).fit(x_train,y_train)\n",
    "print('svr：%f' % mean_squared_error(y_test,svr_.predict(x_test)))\n",
    "#############################################\n",
    "x_train,x_test,y_train,y_test = train_test_split(X_data2,Y_data,train_size = 0.7,random_state=100)\n",
    "lgb_ = lgb.LGBMModel(boosting_type='gbdt', num_leaves=35, max_depth=20, max_bin=255, learning_rate=0.05,n_estimator=10,\n",
    "                                                   subsample_for_bin=2000, objective='regression', min_split_gain=0.0, \n",
    "                                                   min_child_weight=0.001, min_child_samples=20, subsample=1.0, verbose= 0,\n",
    "                                                   subsample_freq=1, colsample_bytree=1.0, reg_alpha=0.0, reg_lambda=0.0,\n",
    "                                                   random_state=81, n_jobs=-1, silent=True).fit(x_train,y_train)\n",
    "print('lgb：%f' % mean_squared_error(y_test,lgb_.predict(x_test)))\n",
    "############################################\n",
    "rf = RandomForestRegressor(n_estimators= 50, max_depth=30, min_samples_split=20,\n",
    "                                  min_samples_leaf=10,max_features='sqrt' ,oob_score=True, random_state=10).fit(x_train,y_train)\n",
    "print('r f：%f' % mean_squared_error(y_test,rf.predict(x_test)))\n",
    "#############################################\n",
    "ls = LassoCV(cv=10).fit(x_train,y_train)\n",
    "print('l s：%f' % mean_squared_error(y_test,ls.predict(x_test)))\n",
    "#############################################\n",
    "bdt = AdaBoostRegressor(DecisionTreeRegressor(max_depth=25, min_samples_split=50, min_samples_leaf=20,criterion='mse'),loss='square',\n",
    "                         n_estimators=100, learning_rate=0.7)\n",
    "bdt.fit(x_train,y_train)\n",
    "print('bdt: %.6f '%mean_squared_error(y_test,bdt.predict(x_test)))\n",
    "#############################################\n",
    "gbm = GradientBoostingRegressor(learning_rate=0.2, n_estimators=80,max_depth=13, min_samples_leaf =60, \n",
    "                                min_samples_split =200, max_features='sqrt', subsample=0.9, random_state=10)\n",
    "\n",
    "gbm.fit(x_train,y_train)\n",
    "print('gbm: %.6f' %mean_squared_error(y_test,gbm.predict(x_test)))\n",
    "#############################################\n",
    "cat = CatBoostRegressor(iterations=10, depth=10, learning_rate=0.95, loss_function='RMSE',\n",
    "                              logging_level=None)\n",
    "cat.fit(x_train,y_train, cat_features=None)\n",
    "print('cat: %.6f' %mean_squared_error(y_test,cat.predict(x_test)))\n",
    "#############################################\n",
    "x_train,x_test,y_train,y_test = train_test_split(X_data2,Y_data,train_size = 0.5,random_state=100)\n",
    "stack = pd.DataFrame()\n",
    "stack['svr_'] = svr_.predict(x_test)\n",
    "stack['lgb_'] = lgb_.predict(x_test)\n",
    "stack['rf'] = rf.predict(x_test)\n",
    "#stack['ls'] = ls.predict(x_test)\n",
    "#stack['bdt'] = bdt.predict(x_test)\n",
    "#stack['gbm'] = gbm.predict(x_test)\n",
    "#stack['cat'] = cat.predict(x_test)\n",
    "#############################################\n",
    "rg = RidgeCV(cv=5).fit(stack,y_test)\n",
    "coefs = rg.coef_\n",
    "intercepts = rg.intercept_\n",
    "print(coefs,intercepts)\n",
    "print(mean_squared_error(y_test,rg.predict(stack)))"
   ]
  },
  {
   "cell_type": "markdown",
   "metadata": {},
   "source": [
    "**看融合后模型的MSE如何** "
   ]
  },
  {
   "cell_type": "code",
   "execution_count": 14,
   "metadata": {},
   "outputs": [
    {
     "name": "stdout",
     "output_type": "stream",
     "text": [
      "[0.058455, 0.064168, 0.065514, 0.058479, 0.06613, 0.067604, 0.058582, 0.061032, 0.068871, 0.065936]\n"
     ]
    }
   ],
   "source": [
    "def get_mean_mse(n):\n",
    "    i , m_mse = 0,[]\n",
    "    while i < n:\n",
    "        x_train,x_test,y_train,y_test = train_test_split(X_data,Y_data,train_size = 0.5)\n",
    "        stack = pd.DataFrame()\n",
    "        stack['svr_'] = svr_.predict(x_test)\n",
    "        stack['lgb_'] = lgb_.predict(x_test)\n",
    "        stack['rf'] = rf.predict(x_test)\n",
    "        stack['ls'] = ls.predict(x_test)\n",
    "        #stack['bdt'] = bdt.predict(x_test)\n",
    "        stack['gbm'] = gbm.predict(x_test)\n",
    "        mse = mean_squared_error(y_test,rg.predict(stack))\n",
    "        m_mse.append(round(mse,6))\n",
    "        i = i + 1\n",
    "    return m_mse\n",
    "\n",
    "print(get_mean_mse(10))"
   ]
  },
  {
   "cell_type": "code",
   "execution_count": 6,
   "metadata": {},
   "outputs": [
    {
     "data": {
      "text/html": [
       "<div>\n",
       "<style scoped>\n",
       "    .dataframe tbody tr th:only-of-type {\n",
       "        vertical-align: middle;\n",
       "    }\n",
       "\n",
       "    .dataframe tbody tr th {\n",
       "        vertical-align: top;\n",
       "    }\n",
       "\n",
       "    .dataframe thead th {\n",
       "        text-align: right;\n",
       "    }\n",
       "</style>\n",
       "<table border=\"1\" class=\"dataframe\">\n",
       "  <thead>\n",
       "    <tr style=\"text-align: right;\">\n",
       "      <th></th>\n",
       "      <th>svr_</th>\n",
       "      <th>lgb_</th>\n",
       "      <th>rf</th>\n",
       "      <th>ls</th>\n",
       "      <th>bdt</th>\n",
       "      <th>gbm</th>\n",
       "    </tr>\n",
       "  </thead>\n",
       "  <tbody>\n",
       "    <tr>\n",
       "      <th>0</th>\n",
       "      <td>0.419994</td>\n",
       "      <td>0.603689</td>\n",
       "      <td>0.668291</td>\n",
       "      <td>0.576995</td>\n",
       "      <td>0.589617</td>\n",
       "      <td>0.651896</td>\n",
       "    </tr>\n",
       "    <tr>\n",
       "      <th>1</th>\n",
       "      <td>1.095085</td>\n",
       "      <td>0.913009</td>\n",
       "      <td>0.959303</td>\n",
       "      <td>0.889158</td>\n",
       "      <td>0.910936</td>\n",
       "      <td>0.854807</td>\n",
       "    </tr>\n",
       "    <tr>\n",
       "      <th>2</th>\n",
       "      <td>0.020104</td>\n",
       "      <td>-0.007598</td>\n",
       "      <td>-0.099217</td>\n",
       "      <td>-0.130268</td>\n",
       "      <td>-0.041257</td>\n",
       "      <td>-0.127872</td>\n",
       "    </tr>\n",
       "    <tr>\n",
       "      <th>3</th>\n",
       "      <td>0.918465</td>\n",
       "      <td>0.695475</td>\n",
       "      <td>0.788440</td>\n",
       "      <td>0.609597</td>\n",
       "      <td>0.764583</td>\n",
       "      <td>0.683573</td>\n",
       "    </tr>\n",
       "    <tr>\n",
       "      <th>4</th>\n",
       "      <td>0.953249</td>\n",
       "      <td>1.015144</td>\n",
       "      <td>0.928828</td>\n",
       "      <td>0.960136</td>\n",
       "      <td>0.984977</td>\n",
       "      <td>1.108260</td>\n",
       "    </tr>\n",
       "  </tbody>\n",
       "</table>\n",
       "</div>"
      ],
      "text/plain": [
       "       svr_      lgb_        rf        ls       bdt       gbm\n",
       "0  0.419994  0.603689  0.668291  0.576995  0.589617  0.651896\n",
       "1  1.095085  0.913009  0.959303  0.889158  0.910936  0.854807\n",
       "2  0.020104 -0.007598 -0.099217 -0.130268 -0.041257 -0.127872\n",
       "3  0.918465  0.695475  0.788440  0.609597  0.764583  0.683573\n",
       "4  0.953249  1.015144  0.928828  0.960136  0.984977  1.108260"
      ]
     },
     "execution_count": 6,
     "metadata": {},
     "output_type": "execute_result"
    }
   ],
   "source": [
    "stack.head()"
   ]
  },
  {
   "cell_type": "markdown",
   "metadata": {},
   "source": [
    "**用回归树做Stacking**"
   ]
  },
  {
   "cell_type": "code",
   "execution_count": 54,
   "metadata": {},
   "outputs": [
    {
     "data": {
      "text/plain": [
       "0.08253538360717404"
      ]
     },
     "execution_count": 54,
     "metadata": {},
     "output_type": "execute_result"
    }
   ],
   "source": [
    "from sklearn.tree import DecisionTreeRegressor\n",
    "\n",
    "reg_stack = DecisionTreeRegressor(max_depth=4)\n",
    "reg_stack.fit(stack,y_test)\n",
    "mean_squared_error(y_test,reg_stack.predict(stack))"
   ]
  },
  {
   "cell_type": "markdown",
   "metadata": {},
   "source": [
    "### 读取测试集数据并删除不要的特征 "
   ]
  },
  {
   "cell_type": "code",
   "execution_count": 43,
   "metadata": {},
   "outputs": [],
   "source": [
    "df_test = pd.read_csv('./zhengqi_test.txt',sep='\\t')\n",
    "df_test = df_test.drop(g_f_s,axis=1)"
   ]
  },
  {
   "cell_type": "code",
   "execution_count": 47,
   "metadata": {},
   "outputs": [],
   "source": [
    "final = pd.DataFrame()\n",
    "final['svr_'] = svr_.predict(df_test)\n",
    "final['lgb_'] = lgb_.predict(df_test)\n",
    "final['rf'] = rf.predict(df_test)\n",
    "#final['ls'] = ls.predict(df_test)\n",
    "#final['bdt'] = bdt.predict(df_test)\n",
    "#final['gbm'] = gbm.predict(df_test)\n",
    "#final['cat'] = cat.predict(df_test)\n",
    "finals = rg.predict(final)\n",
    "finals2 = reg_stack.predict(final)\n",
    "np.savetxt('finals_V1230.txt',finals)"
   ]
  },
  {
   "cell_type": "markdown",
   "metadata": {},
   "source": [
    "### 提交finals为预测结果"
   ]
  },
  {
   "cell_type": "code",
   "execution_count": 51,
   "metadata": {
    "scrolled": false
   },
   "outputs": [
    {
     "data": {
      "text/plain": [
       "array([0.45156756, 0.40250247, 0.10103276, 0.30072096, 0.47810279])"
      ]
     },
     "execution_count": 51,
     "metadata": {},
     "output_type": "execute_result"
    }
   ],
   "source": [
    "finals[:5]"
   ]
  },
  {
   "cell_type": "code",
   "execution_count": 50,
   "metadata": {},
   "outputs": [
    {
     "data": {
      "text/plain": [
       "array([ 0.32280315,  0.32280315, -0.04731977,  0.19890833,  0.32280315])"
      ]
     },
     "execution_count": 50,
     "metadata": {},
     "output_type": "execute_result"
    }
   ],
   "source": [
    "finals2 = reg_stack.predict(final)\n",
    "finals2[:5]"
   ]
  },
  {
   "cell_type": "code",
   "execution_count": 55,
   "metadata": {},
   "outputs": [],
   "source": [
    "np.savetxt('finals_V1230_tree.txt',finals2)"
   ]
  }
 ],
 "metadata": {
  "kernelspec": {
   "display_name": "Python 3",
   "language": "python",
   "name": "python3"
  },
  "language_info": {
   "codemirror_mode": {
    "name": "ipython",
    "version": 3
   },
   "file_extension": ".py",
   "mimetype": "text/x-python",
   "name": "python",
   "nbconvert_exporter": "python",
   "pygments_lexer": "ipython3",
   "version": "3.5.2"
  }
 },
 "nbformat": 4,
 "nbformat_minor": 2
}
